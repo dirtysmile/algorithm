{
 "cells": [
  {
   "cell_type": "markdown",
   "id": "849c742c",
   "metadata": {},
   "source": [
    "87%\n",
    "A가 빈배열일 경우 tmp_n = A[0] 코드 때문에 실패\n",
    "지워도 상관없는 코드 떄문에 실패"
   ]
  },
  {
   "cell_type": "code",
   "execution_count": 25,
   "id": "56804b82",
   "metadata": {},
   "outputs": [
    {
     "name": "stdout",
     "output_type": "stream",
     "text": [
      "[1, 2, 3, 4]\n"
     ]
    }
   ],
   "source": [
    "A = [1,2,3,4]\n",
    "\n",
    "# tmp_n =A[0]\n",
    "# print(A[-1])\n",
    "tmp_A=[]\n",
    "for i in range(4):\n",
    "    for j in range(len(A)):\n",
    "        tmp_A.append(A[j-1])\n",
    "    A=tmp_A\n",
    "    tmp_A=[]\n",
    "\n",
    "print(A)\n",
    "\n",
    "# print(tmp_n)\n",
    "# print(A[len(A)-1])"
   ]
  },
  {
   "cell_type": "code",
   "execution_count": null,
   "id": "7c8bbb90",
   "metadata": {},
   "outputs": [],
   "source": []
  }
 ],
 "metadata": {
  "kernelspec": {
   "display_name": "Python 3 (ipykernel)",
   "language": "python",
   "name": "python3"
  },
  "language_info": {
   "codemirror_mode": {
    "name": "ipython",
    "version": 3
   },
   "file_extension": ".py",
   "mimetype": "text/x-python",
   "name": "python",
   "nbconvert_exporter": "python",
   "pygments_lexer": "ipython3",
   "version": "3.9.7"
  }
 },
 "nbformat": 4,
 "nbformat_minor": 5
}
