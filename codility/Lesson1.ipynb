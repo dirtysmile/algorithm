{
 "cells": [
  {
   "cell_type": "markdown",
   "id": "8d8822b3",
   "metadata": {},
   "source": [
    "else :\n",
    "    tmp_cnt=0 구문을 안넣어서 실패"
   ]
  },
  {
   "cell_type": "code",
   "execution_count": 35,
   "id": "bd5c3234",
   "metadata": {},
   "outputs": [
    {
     "name": "stdout",
     "output_type": "stream",
     "text": [
      "100011101101110100011100001\n",
      "1\n",
      "0\n",
      "if tet : 0\n",
      "0\n",
      "if tet : 0\n",
      "0\n",
      "if tet : 0\n",
      "1\n",
      "1\n",
      "1\n",
      "0\n",
      "if tet : 0\n",
      "1\n",
      "1\n",
      "0\n",
      "if tet : 0\n",
      "1\n",
      "1\n",
      "1\n",
      "0\n",
      "if tet : 0\n",
      "1\n",
      "0\n",
      "if tet : 0\n",
      "0\n",
      "if tet : 0\n",
      "0\n",
      "if tet : 0\n",
      "1\n",
      "1\n",
      "1\n",
      "0\n",
      "if tet : 0\n",
      "0\n",
      "if tet : 0\n",
      "0\n",
      "if tet : 0\n",
      "0\n",
      "if tet : 0\n",
      "1\n",
      "4\n"
     ]
    }
   ],
   "source": [
    "t = bin(74901729)[2:]\n",
    "print(t)\n",
    "\n",
    "max_cnt = 0\n",
    "tmp_cnt = 0\n",
    "trig = False\n",
    "for tet in t :\n",
    "    print(tet)\n",
    "    if(tet==\"1\"):\n",
    "        trig = True\n",
    "    \n",
    "    if(trig==True and tet==\"0\"):\n",
    "        print(\"if tet : \" + tet)\n",
    "        tmp_cnt +=1\n",
    "    elif(trig==True and tet==\"1\"):\n",
    "        if(tmp_cnt > max_cnt):\n",
    "#             print(tmp_cnt)\n",
    "            max_cnt=tmp_cnt\n",
    "            tmp_cnt=0\n",
    "        else:\n",
    "            tmp_cnt=0\n",
    "\n",
    "print(max_cnt)\n"
   ]
  },
  {
   "cell_type": "code",
   "execution_count": null,
   "id": "4f926ea2",
   "metadata": {},
   "outputs": [],
   "source": []
  }
 ],
 "metadata": {
  "kernelspec": {
   "display_name": "Python 3 (ipykernel)",
   "language": "python",
   "name": "python3"
  },
  "language_info": {
   "codemirror_mode": {
    "name": "ipython",
    "version": 3
   },
   "file_extension": ".py",
   "mimetype": "text/x-python",
   "name": "python",
   "nbconvert_exporter": "python",
   "pygments_lexer": "ipython3",
   "version": "3.9.7"
  }
 },
 "nbformat": 4,
 "nbformat_minor": 5
}
