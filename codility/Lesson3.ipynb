{
 "cells": [
  {
   "cell_type": "code",
   "execution_count": 18,
   "id": "03861cee",
   "metadata": {},
   "outputs": [
    {
     "name": "stdout",
     "output_type": "stream",
     "text": [
      "9\n",
      "[3, 3, 9, 7, 9]\n",
      "3\n",
      "[9, 7, 9]\n",
      "9\n",
      "[7]\n",
      "7\n"
     ]
    }
   ],
   "source": [
    "A=[9,3,9,3,9,7,9]\n",
    "\n",
    "def solution(A):\n",
    "    check_num = 0\n",
    "    for n in A :\n",
    "        print(n)\n",
    "        tmp = n;\n",
    "        del A[A.index(n)]\n",
    "        if(A.index(tmp) > -1):\n",
    "            del A[A.index(tmp)]\n",
    "            print(A)\n",
    "           \n",
    "    print(A[0])\n",
    "solution(A)"
   ]
  }
 ],
 "metadata": {
  "kernelspec": {
   "display_name": "Python 3 (ipykernel)",
   "language": "python",
   "name": "python3"
  },
  "language_info": {
   "codemirror_mode": {
    "name": "ipython",
    "version": 3
   },
   "file_extension": ".py",
   "mimetype": "text/x-python",
   "name": "python",
   "nbconvert_exporter": "python",
   "pygments_lexer": "ipython3",
   "version": "3.9.7"
  }
 },
 "nbformat": 4,
 "nbformat_minor": 5
}
