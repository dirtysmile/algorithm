{
 "cells": [
  {
   "cell_type": "markdown",
   "id": "411d514b",
   "metadata": {},
   "source": [
    "1이 될 때까지"
   ]
  },
  {
   "cell_type": "code",
   "execution_count": 20,
   "id": "9ca7cd5d",
   "metadata": {},
   "outputs": [
    {
     "name": "stdout",
     "output_type": "stream",
     "text": [
      "7\n"
     ]
    }
   ],
   "source": [
    "n=30\n",
    "k=4\n",
    "\n",
    "toggle_flg=True\n",
    "cnt=0\n",
    "while True:\n",
    "    if(n%k==0):\n",
    "        n= n//k\n",
    "    else:\n",
    "        n-=1\n",
    "    \n",
    "    cnt +=1\n",
    "    if(n==1):\n",
    "        break\n",
    "        \n",
    "print(cnt)\n",
    "    "
   ]
  },
  {
   "cell_type": "code",
   "execution_count": 2,
   "id": "cde685d8",
   "metadata": {},
   "outputs": [
    {
     "name": "stdout",
     "output_type": "stream",
     "text": [
      "True\n"
     ]
    }
   ],
   "source": [
    "toggle_flg=False\n",
    "print(not toggle_flg)"
   ]
  },
  {
   "cell_type": "code",
   "execution_count": 10,
   "id": "eb641380",
   "metadata": {},
   "outputs": [
    {
     "name": "stdout",
     "output_type": "stream",
     "text": [
      "0\n"
     ]
    }
   ],
   "source": [
    "print(3%3)"
   ]
  }
 ],
 "metadata": {
  "kernelspec": {
   "display_name": "Python 3 (ipykernel)",
   "language": "python",
   "name": "python3"
  },
  "language_info": {
   "codemirror_mode": {
    "name": "ipython",
    "version": 3
   },
   "file_extension": ".py",
   "mimetype": "text/x-python",
   "name": "python",
   "nbconvert_exporter": "python",
   "pygments_lexer": "ipython3",
   "version": "3.9.7"
  }
 },
 "nbformat": 4,
 "nbformat_minor": 5
}
