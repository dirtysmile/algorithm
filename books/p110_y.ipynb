{
 "cells": [
  {
   "cell_type": "markdown",
   "id": "8e7eba0f",
   "metadata": {},
   "source": [
    "상하좌우"
   ]
  },
  {
   "cell_type": "code",
   "execution_count": 25,
   "id": "70e23218",
   "metadata": {},
   "outputs": [
    {
     "name": "stdout",
     "output_type": "stream",
     "text": [
      "1 2\n",
      "1 3\n",
      "1 4\n",
      "0 4\n",
      "2 4\n",
      "3 4\n",
      "3 4\n"
     ]
    }
   ],
   "source": [
    "n=5\n",
    "x,y=1,1\n",
    "\n",
    "# RRRUDD\n",
    "plans=['R','R','R','U','D','D']\n",
    "\n",
    "dx = [0,0,-1,1]\n",
    "dy = [-1,1,0,0]\n",
    "move_types = ['L','R','U','D']\n",
    "\n",
    "tmp_x,tmp_y=x,y\n",
    "for plan in plans :\n",
    "    tmp_x = x+dx[move_types.index(plan)]\n",
    "    tmp_y = y+dy[move_types.index(plan)]\n",
    "    print(tmp_x,tmp_y)\n",
    "    if tmp_x <1 or tmp_x > n or tmp_y <1 or tmp_y > n :\n",
    "        \n",
    "        continue\n",
    "    \n",
    "    x,y = tmp_x,tmp_y\n",
    "    \n",
    "print(x,y)\n"
   ]
  },
  {
   "cell_type": "code",
   "execution_count": null,
   "id": "a752ceee",
   "metadata": {},
   "outputs": [],
   "source": []
  }
 ],
 "metadata": {
  "kernelspec": {
   "display_name": "Python 3 (ipykernel)",
   "language": "python",
   "name": "python3"
  },
  "language_info": {
   "codemirror_mode": {
    "name": "ipython",
    "version": 3
   },
   "file_extension": ".py",
   "mimetype": "text/x-python",
   "name": "python",
   "nbconvert_exporter": "python",
   "pygments_lexer": "ipython3",
   "version": "3.9.7"
  }
 },
 "nbformat": 4,
 "nbformat_minor": 5
}
