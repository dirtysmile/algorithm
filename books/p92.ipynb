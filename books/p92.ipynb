{
 "cells": [
  {
   "cell_type": "markdown",
   "id": "12f27f69",
   "metadata": {},
   "source": [
    "큰 수의 법칙"
   ]
  },
  {
   "cell_type": "code",
   "execution_count": 30,
   "id": "c728695d",
   "metadata": {
    "scrolled": true
   },
   "outputs": [
    {
     "name": "stdout",
     "output_type": "stream",
     "text": [
      "46\n"
     ]
    }
   ],
   "source": [
    "m=8\n",
    "k=3\n",
    "arr=[2,4,5,4,6]\n",
    "arr.sort(reverse=True)\n",
    "\n",
    "re=0\n",
    "sum=0\n",
    "while True:\n",
    "    if(re <3):\n",
    "        sum += arr[0]\n",
    "        re+=1\n",
    "    else:\n",
    "        sum += arr[1]\n",
    "        re=0\n",
    "    \n",
    "    if(m ==1):\n",
    "        break\n",
    "    m-=1;\n",
    "\n",
    "print(sum)\n",
    "\n"
   ]
  },
  {
   "cell_type": "code",
   "execution_count": null,
   "id": "6538ce64",
   "metadata": {},
   "outputs": [],
   "source": []
  }
 ],
 "metadata": {
  "kernelspec": {
   "display_name": "Python 3 (ipykernel)",
   "language": "python",
   "name": "python3"
  },
  "language_info": {
   "codemirror_mode": {
    "name": "ipython",
    "version": 3
   },
   "file_extension": ".py",
   "mimetype": "text/x-python",
   "name": "python",
   "nbconvert_exporter": "python",
   "pygments_lexer": "ipython3",
   "version": "3.9.7"
  }
 },
 "nbformat": 4,
 "nbformat_minor": 5
}
