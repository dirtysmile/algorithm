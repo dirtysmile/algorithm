{
 "cells": [
  {
   "cell_type": "markdown",
   "id": "adf8cce4",
   "metadata": {},
   "source": [
    "왕실의 나이트"
   ]
  },
  {
   "cell_type": "code",
   "execution_count": 17,
   "id": "b185ef41",
   "metadata": {},
   "outputs": [
    {
     "name": "stdout",
     "output_type": "stream",
     "text": [
      "2\n"
     ]
    }
   ],
   "source": [
    "n=8\n",
    "inp=\"a1\"\n",
    "x,y = (ord(inp[0])-96),inp[1]\n",
    "\n",
    "moves =[(2,1),(2,-1),(-2,1),(-2,-1),(1,2),(-1,2),(1,-2),(-1,-2)]\n",
    "\n",
    "count = 0\n",
    "for move in moves:\n",
    "    tmp_x = int(x)+move[0]\n",
    "    tmp_y = int(y)+move[1]\n",
    "    \n",
    "    if tmp_x < 1 or tmp_y < 1 or tmp_x > 8 or tmp_y > 8 :\n",
    "        continue\n",
    "        \n",
    "    count +=1\n",
    "\n",
    "print(count)\n",
    "    "
   ]
  },
  {
   "cell_type": "code",
   "execution_count": null,
   "id": "3485d423",
   "metadata": {},
   "outputs": [],
   "source": []
  }
 ],
 "metadata": {
  "kernelspec": {
   "display_name": "Python 3 (ipykernel)",
   "language": "python",
   "name": "python3"
  },
  "language_info": {
   "codemirror_mode": {
    "name": "ipython",
    "version": 3
   },
   "file_extension": ".py",
   "mimetype": "text/x-python",
   "name": "python",
   "nbconvert_exporter": "python",
   "pygments_lexer": "ipython3",
   "version": "3.9.7"
  }
 },
 "nbformat": 4,
 "nbformat_minor": 5
}
