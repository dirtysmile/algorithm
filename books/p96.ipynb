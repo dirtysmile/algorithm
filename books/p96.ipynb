{
 "cells": [
  {
   "cell_type": "markdown",
   "id": "c926418d",
   "metadata": {},
   "source": [
    "숫자 카드 게임"
   ]
  },
  {
   "cell_type": "code",
   "execution_count": 9,
   "id": "0ab05fda",
   "metadata": {},
   "outputs": [
    {
     "name": "stdout",
     "output_type": "stream",
     "text": [
      "2\n"
     ]
    }
   ],
   "source": [
    "n=3 #행의 개수\n",
    "m=3 #열의 개수\n",
    "\n",
    "arr=[[3,1,2],[4,1,4],[2,2,2]]\n",
    "\n",
    "max_row=1\n",
    "result=0\n",
    "for ar in arr :\n",
    "    min_value=min(ar)\n",
    "    result=max(result,min_value)\n",
    "    \n",
    "print(result)\n"
   ]
  },
  {
   "cell_type": "code",
   "execution_count": 10,
   "id": "35bc2856",
   "metadata": {},
   "outputs": [
    {
     "name": "stdout",
     "output_type": "stream",
     "text": [
      "3\n"
     ]
    }
   ],
   "source": [
    "n=3 #행의 개수\n",
    "m=3 #열의 개수\n",
    "\n",
    "arr=[[7,3,1,8],[3,3,3,4]]\n",
    "\n",
    "max_row=1\n",
    "result=0\n",
    "for ar in arr :\n",
    "    min_value=min(ar)\n",
    "    result=max(result,min_value)\n",
    "    \n",
    "print(result)\n"
   ]
  }
 ],
 "metadata": {
  "kernelspec": {
   "display_name": "Python 3 (ipykernel)",
   "language": "python",
   "name": "python3"
  },
  "language_info": {
   "codemirror_mode": {
    "name": "ipython",
    "version": 3
   },
   "file_extension": ".py",
   "mimetype": "text/x-python",
   "name": "python",
   "nbconvert_exporter": "python",
   "pygments_lexer": "ipython3",
   "version": "3.9.7"
  }
 },
 "nbformat": 4,
 "nbformat_minor": 5
}
